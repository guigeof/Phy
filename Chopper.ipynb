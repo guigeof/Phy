{
  "nbformat": 4,
  "nbformat_minor": 0,
  "metadata": {
    "colab": {
      "provenance": [],
      "authorship_tag": "ABX9TyNZ4yA7UHEkamh23U50nzmZ",
      "include_colab_link": true
    },
    "kernelspec": {
      "name": "python3",
      "display_name": "Python 3"
    },
    "language_info": {
      "name": "python"
    }
  },
  "cells": [
    {
      "cell_type": "markdown",
      "metadata": {
        "id": "view-in-github",
        "colab_type": "text"
      },
      "source": [
        "<a href=\"https://colab.research.google.com/github/guiguilhermegui/Phy/blob/main/Chopper.ipynb\" target=\"_parent\"><img src=\"https://colab.research.google.com/assets/colab-badge.svg\" alt=\"Open In Colab\"/></a>"
      ]
    },
    {
      "cell_type": "code",
      "source": [],
      "metadata": {
        "id": "jOZHXqE0HZcn"
      },
      "execution_count": 1,
      "outputs": []
    },
    {
      "cell_type": "code",
      "source": [
        "pw = \"\"\n",
        "token = ''\n",
        "username = ''\n",
        "email = \"@mail.com\"\n",
        "repo = 'Phy'\n"
      ],
      "metadata": {
        "id": "fIMvYJlkI3V4"
      },
      "execution_count": null,
      "outputs": []
    },
    {
      "cell_type": "code",
      "source": [
        "!git config --global user.name username\n",
        "!git config --global user.email email\n",
        "!git config --global user.password pw\n",
        "!git clone https://{token}@github.com/{username}/{repo}"
      ],
      "metadata": {
        "id": "87rR9KJUJ6x3"
      },
      "execution_count": 2,
      "outputs": []
    },
    {
      "cell_type": "code",
      "source": [
        "%cd Phy/\n",
        "%ls"
      ],
      "metadata": {
        "id": "4ua-H5-BKUQT",
        "colab": {
          "base_uri": "https://localhost:8080/"
        },
        "outputId": "24a2b8ec-c817-44d6-886f-ee73e64b995d"
      },
      "execution_count": 5,
      "outputs": [
        {
          "output_type": "stream",
          "name": "stdout",
          "text": [
            "[Errno 2] No such file or directory: 'Phy/'\n",
            "/content/Phy\n",
            "Chopper.ipynb  Chopper.txt  LICENSE  particle_stats_output.csv  Partisan_v2.m  README.md  \u001b[0m\u001b[01;34mTestes\u001b[0m/\n"
          ]
        }
      ]
    },
    {
      "cell_type": "code",
      "execution_count": null,
      "metadata": {
        "colab": {
          "base_uri": "https://localhost:8080/"
        },
        "id": "YxPcYT86v9cx",
        "outputId": "db508519-5c91-42c2-9f77-04b85e54fcb7"
      },
      "outputs": [
        {
          "output_type": "stream",
          "name": "stdout",
          "text": [
            "fatal: destination path 'Phy' already exists and is not an empty directory.\n",
            "Requirement already satisfied: pillow in /usr/local/lib/python3.10/dist-packages (10.4.0)\n"
          ]
        }
      ],
      "source": [
        "\n",
        "\n",
        "!pip install pillow\n",
        "\n",
        "from PIL import Image  # Importa a biblioteca PIL para manipulação de imagens\n",
        "import os  # Importa a biblioteca os para interagir com o sistema de arquivos\n",
        "\n",
        "# Função para obter a cor dominante da imagem\n",
        "def get_dominant_color(image_path):\n",
        "    # Abre a imagem no caminho especificado\n",
        "    with Image.open(image_path) as img:\n",
        "        img = img.convert(\"L\")  # Converte a imagem para escala de cinza (modo \"L\")\n",
        "        # Obtém todas as cores da imagem e suas contagens\n",
        "        colors = img.getcolors(img.size[0] * img.size[1])\n",
        "        # Retorna a cor mais frequente (dominante)\n",
        "        dominant_color = max(colors, key=lambda item: item[0])[1]\n",
        "        return dominant_color\n",
        "\n",
        "# Função para criar uma pasta se ela não existir\n",
        "def create_folder_if_not_exists(folder_path):\n",
        "    # Verifica se a pasta já existe\n",
        "    if not os.path.exists(folder_path):\n",
        "        os.makedirs(folder_path)  # Cria a pasta se não existir\n",
        "\n",
        "# Função para mover a imagem para uma pasta correspondente à sua cor dominante\n",
        "def move_image_by_color(image_path, output_folder, dominant_color):\n",
        "    # O valor dominante é um único valor de intensidade em tons de cinza\n",
        "    color_folder_name = str(dominant_color)  # Converte o valor da cor dominante para string\n",
        "    color_folder_path = os.path.join(output_folder, color_folder_name)  # Cria o caminho da nova pasta\n",
        "    create_folder_if_not_exists(color_folder_path)  # Cria a nova pasta se necessário\n",
        "\n",
        "    image_name = os.path.basename(image_path)  # Obtém o nome do arquivo da imagem original\n",
        "    new_image_path = os.path.join(color_folder_path, image_name)  # Define o novo caminho da imagem\n",
        "\n",
        "    # Abre a imagem novamente para realizar o corte\n",
        "    with Image.open(image_path) as img:\n",
        "        width, height = img.size  # Obtém as dimensões da imagem\n",
        "\n",
        "        # Define as coordenadas do corte (exemplo: cortando a metade da imagem)\n",
        "        left = 0\n",
        "        top = 0\n",
        "        right = width // 2  # Cortando até a metade da largura\n",
        "        bottom = height // 2  # Cortando até a metade da altura\n",
        "\n",
        "        # Realiza o corte com as coordenadas definidas\n",
        "        cropped_image = img.crop((left, top, right, bottom))\n",
        "\n",
        "        # Salva a imagem cortada na nova pasta correspondente à cor dominante\n",
        "        cropped_image.save(new_image_path)\n",
        "\n",
        "# Caminho para as imagens de entrada e a pasta de saída\n",
        "input_folder = \"Phy\"  # Pasta onde as imagens estão localizadas\n",
        "output_folder = \"separated_images\"  # Pasta onde as imagens cortadas serão salvas\n",
        "\n",
        "# Loop através de todos os arquivos na pasta de entrada\n",
        "for filename in os.listdir(input_folder):\n",
        "    # Verifica se o arquivo tem uma das extensões especificadas (incluindo .tif)\n",
        "    if filename.endswith((\".jpg\", \".jpeg\", \".png\", \".tif\")):\n",
        "        image_path = os.path.join(input_folder, filename)  # Cria o caminho completo do arquivo de imagem\n",
        "        dominant_color = get_dominant_color(image_path)  # Obtém a cor dominante da imagem\n",
        "        move_image_by_color(image_path, output_folder, dominant_color)  # Move e corta a imagem pela cor dominante\n"
      ]
    },
    {
      "cell_type": "code",
      "source": [],
      "metadata": {
        "id": "eXLk3HBAzVhI"
      },
      "execution_count": null,
      "outputs": []
    },
    {
      "cell_type": "code",
      "source": [],
      "metadata": {
        "id": "Gv9KtdEKHYmd"
      },
      "execution_count": null,
      "outputs": []
    },
    {
      "cell_type": "code",
      "source": [],
      "metadata": {
        "colab": {
          "base_uri": "https://localhost:8080/",
          "height": 222
        },
        "id": "DBQ9NwumzBIQ",
        "outputId": "8ccaed16-f87b-4834-8d02-ccc3122b5bd7"
      },
      "execution_count": null,
      "outputs": [
        {
          "output_type": "error",
          "ename": "FileNotFoundError",
          "evalue": "[Errno 2] No such file or directory: 'path/to/your/images'",
          "traceback": [
            "\u001b[0;31m---------------------------------------------------------------------------\u001b[0m",
            "\u001b[0;31mFileNotFoundError\u001b[0m                         Traceback (most recent call last)",
            "\u001b[0;32m<ipython-input-7-f451160cec48>\u001b[0m in \u001b[0;36m<cell line: 32>\u001b[0;34m()\u001b[0m\n\u001b[1;32m     30\u001b[0m \u001b[0moutput_folder\u001b[0m \u001b[0;34m=\u001b[0m \u001b[0;34m\"path/to/separated/images\"\u001b[0m\u001b[0;34m\u001b[0m\u001b[0;34m\u001b[0m\u001b[0m\n\u001b[1;32m     31\u001b[0m \u001b[0;34m\u001b[0m\u001b[0m\n\u001b[0;32m---> 32\u001b[0;31m \u001b[0;32mfor\u001b[0m \u001b[0mfilename\u001b[0m \u001b[0;32min\u001b[0m \u001b[0mos\u001b[0m\u001b[0;34m.\u001b[0m\u001b[0mlistdir\u001b[0m\u001b[0;34m(\u001b[0m\u001b[0minput_folder\u001b[0m\u001b[0;34m)\u001b[0m\u001b[0;34m:\u001b[0m\u001b[0;34m\u001b[0m\u001b[0;34m\u001b[0m\u001b[0m\n\u001b[0m\u001b[1;32m     33\u001b[0m     \u001b[0;32mif\u001b[0m \u001b[0mfilename\u001b[0m\u001b[0;34m.\u001b[0m\u001b[0mendswith\u001b[0m\u001b[0;34m(\u001b[0m\u001b[0;34m(\u001b[0m\u001b[0;34m\".jpg\"\u001b[0m\u001b[0;34m,\u001b[0m \u001b[0;34m\".jpeg\"\u001b[0m\u001b[0;34m,\u001b[0m \u001b[0;34m\".png\"\u001b[0m\u001b[0;34m)\u001b[0m\u001b[0;34m)\u001b[0m\u001b[0;34m:\u001b[0m\u001b[0;34m\u001b[0m\u001b[0;34m\u001b[0m\u001b[0m\n\u001b[1;32m     34\u001b[0m         \u001b[0mimage_path\u001b[0m \u001b[0;34m=\u001b[0m \u001b[0mos\u001b[0m\u001b[0;34m.\u001b[0m\u001b[0mpath\u001b[0m\u001b[0;34m.\u001b[0m\u001b[0mjoin\u001b[0m\u001b[0;34m(\u001b[0m\u001b[0minput_folder\u001b[0m\u001b[0;34m,\u001b[0m \u001b[0mfilename\u001b[0m\u001b[0;34m)\u001b[0m\u001b[0;34m\u001b[0m\u001b[0;34m\u001b[0m\u001b[0m\n",
            "\u001b[0;31mFileNotFoundError\u001b[0m: [Errno 2] No such file or directory: 'path/to/your/images'"
          ]
        }
      ]
    },
    {
      "cell_type": "markdown",
      "source": [
        "Pillow"
      ],
      "metadata": {
        "id": "ZPwisIrbzBwW"
      }
    }
  ]
}