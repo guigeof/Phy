{
  "nbformat": 4,
  "nbformat_minor": 0,
  "metadata": {
    "colab": {
      "provenance": [],
      "authorship_tag": "ABX9TyNLbfrYrefYKNKgQFKN0kCZ",
      "include_colab_link": true
    },
    "kernelspec": {
      "name": "python3",
      "display_name": "Python 3"
    },
    "language_info": {
      "name": "python"
    }
  },
  "cells": [
    {
      "cell_type": "markdown",
      "metadata": {
        "id": "view-in-github",
        "colab_type": "text"
      },
      "source": [
        "<a href=\"https://colab.research.google.com/github/guiguilhermegui/Phy/blob/main/Chopper.ipynb\" target=\"_parent\"><img src=\"https://colab.research.google.com/assets/colab-badge.svg\" alt=\"Open In Colab\"/></a>"
      ]
    },
    {
      "cell_type": "code",
      "execution_count": 6,
      "metadata": {
        "colab": {
          "base_uri": "https://localhost:8080/"
        },
        "id": "YxPcYT86v9cx",
        "outputId": "db508519-5c91-42c2-9f77-04b85e54fcb7"
      },
      "outputs": [
        {
          "output_type": "stream",
          "name": "stdout",
          "text": [
            "fatal: destination path 'Phy' already exists and is not an empty directory.\n",
            "Requirement already satisfied: pillow in /usr/local/lib/python3.10/dist-packages (10.4.0)\n"
          ]
        }
      ],
      "source": [
        "!git clone https://github.com/guiguilhermegui/Phy/\n",
        "!pip install pillow\n"
      ]
    },
    {
      "cell_type": "code",
      "source": [],
      "metadata": {
        "id": "eXLk3HBAzVhI"
      },
      "execution_count": null,
      "outputs": []
    },
    {
      "cell_type": "code",
      "source": [
        "from PIL import Image\n",
        "import os\n",
        "\n",
        "def get_dominant_color(image_path):\n",
        "    with Image.open(image_path) as img:\n",
        "        img = img.convert(\"RGB\")\n",
        "        colors = img.getcolors(img.size[0] * img.size[1])\n",
        "        # Retorna a cor mais frequente\n",
        "        dominant_color = max(colors, key=lambda item: item[0])[1]\n",
        "        return dominant_color\n",
        "\n",
        "def create_folder_if_not_exists(folder_path):\n",
        "    if not os.path.exists(folder_path):\n",
        "        os.makedirs(folder_path)\n",
        "\n",
        "def move_image_by_color(image_path, output_folder, dominant_color):\n",
        "    r, g, b = dominant_color\n",
        "    # Converte a cor para um formato simples para usar no nome da pasta\n",
        "    color_folder_name = f\"{r}_{g}_{b}\"\n",
        "    color_folder_path = os.path.join(output_folder, color_folder_name)\n",
        "    create_folder_if_not_exists(color_folder_path)\n",
        "\n",
        "    # Move a imagem para a pasta correspondente\n",
        "    image_name = os.path.basename(image_path)\n",
        "    new_image_path = os.path.join(color_folder_path, image_name)\n",
        "    os.rename(image_path, new_image_path)\n",
        "\n",
        "# Caminho para as imagens e a pasta de saída\n",
        "input_folder = \"path/to/your/images\"\n",
        "output_folder = \"path/to/separated/images\"\n",
        "\n",
        "for filename in os.listdir(input_folder):\n",
        "    if filename.endswith((\".jpg\", \".jpeg\", \".png\")):\n",
        "        image_path = os.path.join(input_folder, filename)\n",
        "        dominant_color = get_dominant_color(image_path)\n",
        "        move_image_by_color(image_path, output_folder, dominant_color)\n"
      ],
      "metadata": {
        "colab": {
          "base_uri": "https://localhost:8080/",
          "height": 222
        },
        "id": "DBQ9NwumzBIQ",
        "outputId": "8ccaed16-f87b-4834-8d02-ccc3122b5bd7"
      },
      "execution_count": 7,
      "outputs": [
        {
          "output_type": "error",
          "ename": "FileNotFoundError",
          "evalue": "[Errno 2] No such file or directory: 'path/to/your/images'",
          "traceback": [
            "\u001b[0;31m---------------------------------------------------------------------------\u001b[0m",
            "\u001b[0;31mFileNotFoundError\u001b[0m                         Traceback (most recent call last)",
            "\u001b[0;32m<ipython-input-7-f451160cec48>\u001b[0m in \u001b[0;36m<cell line: 32>\u001b[0;34m()\u001b[0m\n\u001b[1;32m     30\u001b[0m \u001b[0moutput_folder\u001b[0m \u001b[0;34m=\u001b[0m \u001b[0;34m\"path/to/separated/images\"\u001b[0m\u001b[0;34m\u001b[0m\u001b[0;34m\u001b[0m\u001b[0m\n\u001b[1;32m     31\u001b[0m \u001b[0;34m\u001b[0m\u001b[0m\n\u001b[0;32m---> 32\u001b[0;31m \u001b[0;32mfor\u001b[0m \u001b[0mfilename\u001b[0m \u001b[0;32min\u001b[0m \u001b[0mos\u001b[0m\u001b[0;34m.\u001b[0m\u001b[0mlistdir\u001b[0m\u001b[0;34m(\u001b[0m\u001b[0minput_folder\u001b[0m\u001b[0;34m)\u001b[0m\u001b[0;34m:\u001b[0m\u001b[0;34m\u001b[0m\u001b[0;34m\u001b[0m\u001b[0m\n\u001b[0m\u001b[1;32m     33\u001b[0m     \u001b[0;32mif\u001b[0m \u001b[0mfilename\u001b[0m\u001b[0;34m.\u001b[0m\u001b[0mendswith\u001b[0m\u001b[0;34m(\u001b[0m\u001b[0;34m(\u001b[0m\u001b[0;34m\".jpg\"\u001b[0m\u001b[0;34m,\u001b[0m \u001b[0;34m\".jpeg\"\u001b[0m\u001b[0;34m,\u001b[0m \u001b[0;34m\".png\"\u001b[0m\u001b[0;34m)\u001b[0m\u001b[0;34m)\u001b[0m\u001b[0;34m:\u001b[0m\u001b[0;34m\u001b[0m\u001b[0;34m\u001b[0m\u001b[0m\n\u001b[1;32m     34\u001b[0m         \u001b[0mimage_path\u001b[0m \u001b[0;34m=\u001b[0m \u001b[0mos\u001b[0m\u001b[0;34m.\u001b[0m\u001b[0mpath\u001b[0m\u001b[0;34m.\u001b[0m\u001b[0mjoin\u001b[0m\u001b[0;34m(\u001b[0m\u001b[0minput_folder\u001b[0m\u001b[0;34m,\u001b[0m \u001b[0mfilename\u001b[0m\u001b[0;34m)\u001b[0m\u001b[0;34m\u001b[0m\u001b[0;34m\u001b[0m\u001b[0m\n",
            "\u001b[0;31mFileNotFoundError\u001b[0m: [Errno 2] No such file or directory: 'path/to/your/images'"
          ]
        }
      ]
    },
    {
      "cell_type": "markdown",
      "source": [
        "Pillow"
      ],
      "metadata": {
        "id": "ZPwisIrbzBwW"
      }
    }
  ]
}