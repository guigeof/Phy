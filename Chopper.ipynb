{
  "nbformat": 4,
  "nbformat_minor": 0,
  "metadata": {
    "colab": {
      "provenance": [],
      "authorship_tag": "ABX9TyMNmRiV5xf0X8a5kN3TNsDV",
      "include_colab_link": true
    },
    "kernelspec": {
      "name": "python3",
      "display_name": "Python 3"
    },
    "language_info": {
      "name": "python"
    }
  },
  "cells": [
    {
      "cell_type": "markdown",
      "metadata": {
        "id": "view-in-github",
        "colab_type": "text"
      },
      "source": [
        "<a href=\"https://colab.research.google.com/github/guiguilhermegui/Phy/blob/main/Chopper.ipynb\" target=\"_parent\"><img src=\"https://colab.research.google.com/assets/colab-badge.svg\" alt=\"Open In Colab\"/></a>"
      ]
    },
    {
      "cell_type": "markdown",
      "source": [],
      "metadata": {
        "id": "x1651OkcJWuY"
      }
    },
    {
      "cell_type": "code",
      "source": [
        "#cole aqui\n",
        "#rode aqui\n",
        "#apague aqui\n",
        "\n",
        "#assim que entender, configurar no simbolo de chave ao lado\n",
        "\n",
        "#''' #comentário multilinha, apague com uma hashtag antes dos ,,,\n",
        "\n",
        "from google.colab import userdata\n",
        "token=userdata.get('token')\n",
        "username=userdata.get('username')\n",
        "email=userdata.get('email')\n",
        "repo=userdata.get('repo')\n",
        "pw=userdata.get('pw')\n",
        "\n",
        "#'''\n"
      ],
      "metadata": {
        "id": "fIMvYJlkI3V4"
      },
      "execution_count": 1,
      "outputs": []
    },
    {
      "cell_type": "markdown",
      "source": [],
      "metadata": {
        "id": "Enjis_p6L404"
      }
    },
    {
      "cell_type": "code",
      "source": [
        "#Rodar só uma vez\n",
        "%cd\n",
        "!pip install pillow\n",
        "!git config --global user.name username\n",
        "!git config --global user.email email\n",
        "!git config --global user.password pw\n",
        "\n",
        "\n",
        "\n",
        "\n",
        "\n",
        "%cd Phy/\n",
        "%ls"
      ],
      "metadata": {
        "id": "87rR9KJUJ6x3",
        "colab": {
          "base_uri": "https://localhost:8080/"
        },
        "outputId": "a390474e-63d5-4188-e45f-4181955aaf1d"
      },
      "execution_count": 2,
      "outputs": [
        {
          "output_type": "stream",
          "name": "stdout",
          "text": [
            "/root\n",
            "Requirement already satisfied: pillow in /usr/local/lib/python3.10/dist-packages (10.4.0)\n",
            "[Errno 2] No such file or directory: 'Phy/'\n",
            "/root\n"
          ]
        }
      ]
    },
    {
      "cell_type": "code",
      "source": [
        "%cd\n",
        "%mkdir ../content/NewVersion\n",
        "%cd /content/NewVersion\n",
        "\n",
        "!git init\n",
        "!git clone https://{token}@github.com/{username}/{repo}"
      ],
      "metadata": {
        "id": "ibgrDrDscDh2",
        "outputId": "cc125736-ed5c-481e-acd3-66078a435b2d",
        "colab": {
          "base_uri": "https://localhost:8080/"
        }
      },
      "execution_count": 3,
      "outputs": [
        {
          "output_type": "stream",
          "name": "stdout",
          "text": [
            "/root\n",
            "/content/NewVersion\n",
            "\u001b[33mhint: Using 'master' as the name for the initial branch. This default branch name\u001b[m\n",
            "\u001b[33mhint: is subject to change. To configure the initial branch name to use in all\u001b[m\n",
            "\u001b[33mhint: of your new repositories, which will suppress this warning, call:\u001b[m\n",
            "\u001b[33mhint: \u001b[m\n",
            "\u001b[33mhint: \tgit config --global init.defaultBranch <name>\u001b[m\n",
            "\u001b[33mhint: \u001b[m\n",
            "\u001b[33mhint: Names commonly chosen instead of 'master' are 'main', 'trunk' and\u001b[m\n",
            "\u001b[33mhint: 'development'. The just-created branch can be renamed via this command:\u001b[m\n",
            "\u001b[33mhint: \u001b[m\n",
            "\u001b[33mhint: \tgit branch -m <name>\u001b[m\n",
            "Initialized empty Git repository in /content/NewVersion/.git/\n",
            "Cloning into 'Phy'...\n",
            "remote: Enumerating objects: 149, done.\u001b[K\n",
            "remote: Counting objects: 100% (149/149), done.\u001b[K\n",
            "remote: Compressing objects: 100% (135/135), done.\u001b[K\n",
            "remote: Total 149 (delta 59), reused 0 (delta 0), pack-reused 0 (from 0)\u001b[K\n",
            "Receiving objects: 100% (149/149), 91.20 KiB | 1.69 MiB/s, done.\n",
            "Resolving deltas: 100% (59/59), done.\n"
          ]
        }
      ]
    },
    {
      "cell_type": "markdown",
      "source": [
        "Help cheat sheet\n",
        "\n",
        "# mover/editar pastas\n",
        "\n",
        "### opção 0, arquivo único na árvore de arquivos\n",
        "  1. editar na interface do site\n",
        "\n",
        "### opção 1, edita offline, exclui e sobe\n",
        "  1. fazer download da pasta,\n",
        "  2. copia bck,\n",
        "  3. edita,\n",
        "  4. deletar no github, e depois\n",
        "  5. subir de volta\n",
        "\n",
        "### opção 2 usar os comandos git\n",
        "1. usar um dos comandos git abaixo,\n",
        "2. testar com pasta de testes\n",
        "\n",
        " oi (seek help) it is dangerous\n",
        "\n",
        "        git mv ./folder/* .\n",
        "        git mv folder/* .\n",
        "        git mv folder/.* .\n",
        "\n",
        "e depois de descobrir o comando correto   \n",
        "\n",
        "        git rm ./my-app\n",
        "        git add -A\n",
        "        git commit -m \"Folders moved out of my-app directory :)\"\n",
        "\n",
        "\n",
        "\n",
        "\n",
        "# google drive connection\n",
        "\n",
        "    from google.colab import drive\n",
        "    #drive.mount('/content/drive')\n",
        "\n",
        "# Download da pasta\n",
        "\n",
        "    from google.colab import files\n",
        "    #!zip -r /content/NewVersion.zip /content/NewVersion/\n",
        "    #files.download('/content/NewVersion.zip')\n",
        "\n"
      ],
      "metadata": {
        "id": "P_WtP-89BhNr"
      }
    },
    {
      "cell_type": "code",
      "execution_count": null,
      "metadata": {
        "colab": {
          "base_uri": "https://localhost:8080/",
          "height": 228
        },
        "id": "YxPcYT86v9cx",
        "outputId": "c38b5990-1ed7-498e-d61b-35afdf9a3a3d"
      },
      "outputs": [
        {
          "output_type": "error",
          "ename": "FileNotFoundError",
          "evalue": "[Errno 2] No such file or directory: 'Phy'",
          "traceback": [
            "\u001b[0;31m---------------------------------------------------------------------------\u001b[0m",
            "\u001b[0;31mFileNotFoundError\u001b[0m                         Traceback (most recent call last)",
            "\u001b[0;32m<ipython-input-4-ea4ceec221fa>\u001b[0m in \u001b[0;36m<cell line: 52>\u001b[0;34m()\u001b[0m\n\u001b[1;32m     50\u001b[0m \u001b[0;34m\u001b[0m\u001b[0m\n\u001b[1;32m     51\u001b[0m \u001b[0;31m# Loop através de todos os arquivos na pasta de entrada\u001b[0m\u001b[0;34m\u001b[0m\u001b[0;34m\u001b[0m\u001b[0m\n\u001b[0;32m---> 52\u001b[0;31m \u001b[0;32mfor\u001b[0m \u001b[0mfilename\u001b[0m \u001b[0;32min\u001b[0m \u001b[0mos\u001b[0m\u001b[0;34m.\u001b[0m\u001b[0mlistdir\u001b[0m\u001b[0;34m(\u001b[0m\u001b[0minput_folder\u001b[0m\u001b[0;34m)\u001b[0m\u001b[0;34m:\u001b[0m\u001b[0;34m\u001b[0m\u001b[0;34m\u001b[0m\u001b[0m\n\u001b[0m\u001b[1;32m     53\u001b[0m     \u001b[0;31m# Verifica se o arquivo tem uma das extensões especificadas (incluindo .tif)\u001b[0m\u001b[0;34m\u001b[0m\u001b[0;34m\u001b[0m\u001b[0m\n\u001b[1;32m     54\u001b[0m     \u001b[0;32mif\u001b[0m \u001b[0mfilename\u001b[0m\u001b[0;34m.\u001b[0m\u001b[0mendswith\u001b[0m\u001b[0;34m(\u001b[0m\u001b[0;34m(\u001b[0m\u001b[0;34m\".jpg\"\u001b[0m\u001b[0;34m,\u001b[0m \u001b[0;34m\".jpeg\"\u001b[0m\u001b[0;34m,\u001b[0m \u001b[0;34m\".png\"\u001b[0m\u001b[0;34m,\u001b[0m \u001b[0;34m\".tif\"\u001b[0m\u001b[0;34m)\u001b[0m\u001b[0;34m)\u001b[0m\u001b[0;34m:\u001b[0m\u001b[0;34m\u001b[0m\u001b[0;34m\u001b[0m\u001b[0m\n",
            "\u001b[0;31mFileNotFoundError\u001b[0m: [Errno 2] No such file or directory: 'Phy'"
          ]
        }
      ],
      "source": [
        "\n",
        "\n",
        "\n",
        "\n",
        "from PIL import Image  # Importa a biblioteca PIL para manipulação de imagens\n",
        "import os  # Importa a biblioteca os para interagir com o sistema de arquivos\n",
        "\n",
        "# Função para obter a cor dominante da imagem\n",
        "def get_dominant_color(image_path):\n",
        "    # Abre a imagem no caminho especificado\n",
        "    with Image.open(image_path) as img:\n",
        "        img = img.convert(\"L\")  # Converte a imagem para escala de cinza (modo \"L\")\n",
        "        # Obtém todas as cores da imagem e suas contagens\n",
        "        colors = img.getcolors(img.size[0] * img.size[1])\n",
        "        # Retorna a cor mais frequente (dominante)\n",
        "        dominant_color = max(colors, key=lambda item: item[0])[1]\n",
        "        return dominant_color\n",
        "\n",
        "# Função para criar uma pasta se ela não existir\n",
        "def create_folder_if_not_exists(folder_path):\n",
        "    # Verifica se a pasta já existe\n",
        "    if not os.path.exists(folder_path):\n",
        "        os.makedirs(folder_path)  # Cria a pasta se não existir\n",
        "\n",
        "# Função para mover a imagem para uma pasta correspondente à sua cor dominante\n",
        "def move_image_by_color(image_path, output_folder, dominant_color):\n",
        "    # O valor dominante é um único valor de intensidade em tons de cinza\n",
        "    color_folder_name = str(dominant_color)  # Converte o valor da cor dominante para string\n",
        "    color_folder_path = os.path.join(output_folder, color_folder_name)  # Cria o caminho da nova pasta\n",
        "    create_folder_if_not_exists(color_folder_path)  # Cria a nova pasta se necessário\n",
        "\n",
        "    image_name = os.path.basename(image_path)  # Obtém o nome do arquivo da imagem original\n",
        "    new_image_path = os.path.join(color_folder_path, image_name)  # Define o novo caminho da imagem\n",
        "\n",
        "    # Abre a imagem novamente para realizar o corte\n",
        "    with Image.open(image_path) as img:\n",
        "        width, height = img.size  # Obtém as dimensões da imagem\n",
        "\n",
        "        # Define as coordenadas do corte (exemplo: cortando a metade da imagem)\n",
        "        left = 0\n",
        "        top = 0\n",
        "        right = width // 2  # Cortando até a metade da largura\n",
        "        bottom = height // 2  # Cortando até a metade da altura\n",
        "\n",
        "        # Realiza o corte com as coordenadas definidas\n",
        "        cropped_image = img.crop((left, top, right, bottom))\n",
        "\n",
        "        # Salva a imagem cortada na nova pasta correspondente à cor dominante\n",
        "        cropped_image.save(new_image_path)\n",
        "\n",
        "# Caminho para as imagens de entrada e a pasta de saída\n",
        "input_folder = \"Phy\"  # Pasta onde as imagens estão localizadas\n",
        "output_folder = \"separated_images\"  # Pasta onde as imagens cortadas serão salvas\n",
        "\n",
        "# Loop através de todos os arquivos na pasta de entrada\n",
        "for filename in os.listdir(input_folder):\n",
        "    # Verifica se o arquivo tem uma das extensões especificadas (incluindo .tif)\n",
        "    if filename.endswith((\".jpg\", \".jpeg\", \".png\", \".tif\")):\n",
        "        image_path = os.path.join(input_folder, filename)  # Cria o caminho completo do arquivo de imagem\n",
        "        dominant_color = get_dominant_color(image_path)  # Obtém a cor dominante da imagem\n",
        "        move_image_by_color(image_path, output_folder, dominant_color)  # Move e corta a imagem pela cor dominante\n"
      ]
    },
    {
      "cell_type": "code",
      "source": [
        "os.listdir"
      ],
      "metadata": {
        "id": "eXLk3HBAzVhI",
        "outputId": "f373b31f-62e5-4901-862a-4bee3e1bfe6e",
        "colab": {
          "base_uri": "https://localhost:8080/"
        }
      },
      "execution_count": null,
      "outputs": [
        {
          "output_type": "execute_result",
          "data": {
            "text/plain": [
              "<function posix.listdir(path=None)>"
            ]
          },
          "metadata": {},
          "execution_count": 5
        }
      ]
    },
    {
      "cell_type": "code",
      "source": [],
      "metadata": {
        "id": "Gv9KtdEKHYmd"
      },
      "execution_count": null,
      "outputs": []
    },
    {
      "cell_type": "code",
      "source": [],
      "metadata": {
        "id": "DBQ9NwumzBIQ"
      },
      "execution_count": null,
      "outputs": []
    },
    {
      "cell_type": "markdown",
      "source": [
        "Pillow"
      ],
      "metadata": {
        "id": "ZPwisIrbzBwW"
      }
    }
  ]
}